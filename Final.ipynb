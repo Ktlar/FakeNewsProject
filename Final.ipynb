{
  "nbformat": 4,
  "nbformat_minor": 0,
  "metadata": {
    "colab": {
      "provenance": []
    },
    "kernelspec": {
      "name": "python3",
      "display_name": "Python 3"
    },
    "language_info": {
      "name": "python"
    }
  },
  "cells": [
    {
      "cell_type": "code",
      "source": [
        "#All imported libraries\n",
        "import nltk\n",
        "from nltk.corpus import stopwords\n",
        "from nltk.tokenize import word_tokenize\n",
        "from nltk.stem import PorterStemmer\n",
        "\n",
        "import pandas as pd\n",
        "import re\n",
        "import csv\n",
        "from collections import Counter\n",
        "import matplotlib.pyplot as plt\n",
        "import seaborn as sns\n",
        "import statistics\n",
        "\n",
        "from sklearn.model_selection import GridSearchCV, train_test_split\n",
        "from sklearn.linear_model import LogisticRegression\n",
        "from sklearn.feature_extraction.text import TfidfVectorizer, CountVectorizer\n",
        "from sklearn.naive_bayes import MultinomialNB\n",
        "from sklearn.metrics import accuracy_score, precision_score, recall_score, f1_score\n",
        "\n",
        "import numpy as np"
      ],
      "metadata": {
        "id": "OoGKgXw2saMF"
      },
      "execution_count": 9,
      "outputs": []
    },
    {
      "cell_type": "markdown",
      "source": [
        "Part 1 Task 1"
      ],
      "metadata": {
        "id": "COnIcEVL9rlF"
      }
    },
    {
      "cell_type": "code",
      "execution_count": 10,
      "metadata": {
        "colab": {
          "base_uri": "https://localhost:8080/"
        },
        "id": "sV4sRyNZ9GnE",
        "outputId": "957cb204-ec4d-4cb4-9053-af5801832651"
      },
      "outputs": [
        {
          "output_type": "stream",
          "name": "stderr",
          "text": [
            "[nltk_data] Downloading package punkt to /root/nltk_data...\n",
            "[nltk_data]   Unzipping tokenizers/punkt.zip.\n",
            "[nltk_data] Downloading package stopwords to /root/nltk_data...\n",
            "[nltk_data]   Unzipping corpora/stopwords.zip.\n"
          ]
        }
      ],
      "source": [
        "\n",
        "# download the necessary resources. \n",
        "nltk.download('punkt')\n",
        "nltk.download('stopwords')\n",
        "\n",
        "def clean_text(txt):\n",
        "    if pd.isnull(txt):\n",
        "      return ''\n",
        "    #lowercasing text\n",
        "    txt = txt.lower()\n",
        "    #Removing excess whitespace, tabs and new lines\n",
        "    txt = re.sub(r\"\\s+\", \" \", txt)\n",
        "    #remove special characters\n",
        "    txt = re.sub(r\"[^\\w\\s]+|<|>\", \"\", txt)\n",
        "    #numbers replaced with \"<NUM>\"#\n",
        "    txt = re.sub(r\"\\d+\", \"NUM\", txt)\n",
        "    #Dates replaced with \"<DATE>\"#\n",
        "    txt = re.sub(r\"\\d{4}-\\d{2}-\\d{2}\", \"DATE\", txt)\n",
        "    #Emails replaces with \"<EMAIL>\"#\n",
        "    txt = re.sub(r\"\\S+@\\S+\", \"EMAIL\", txt)\n",
        "    #URLS replaces with \"<URL>\"\n",
        "    txt = re.sub(r\"http\\S+\", \"URL\", txt)\n",
        "\n",
        "    return txt\n",
        "\n",
        "def tokenize_text(df, column):\n",
        "    # Apply clean_text function to the text in the specified column\n",
        "    df['clean_text'] = df[column].apply(clean_text)\n",
        "    # Tokenize the text\n",
        "    df['tokens'] = df['clean_text'].apply(nltk.word_tokenize)\n",
        "    return df\n",
        "\n",
        "def remove_stopwords(df):\n",
        "    # Remove stopwords\n",
        "    stopwords = set(nltk.corpus.stopwords.words('english'))\n",
        "    df['tokens_no_stopwords'] = df['tokens'].apply(lambda x: [word for word in x if word not in stopwords])\n",
        "    # Compute the size of the vocabulary before and after removing stopwords\n",
        "    vocab_before = len(set([word for tokens in df['tokens'] for word in tokens]))\n",
        "    vocab_after = len(set([word for tokens in df['tokens_no_stopwords'] for word in tokens]))\n",
        "    if vocab_before > 0:\n",
        "        reduction_rate_stopwords = (vocab_before - vocab_after) / vocab_before\n",
        "    else:\n",
        "        reduction_rate_stopwords = 0\n",
        "    print(f\"\\nVocabulary size before removing stopwords: {vocab_before}\")\n",
        "    print(f\"Vocabulary size after removing stopwords: {vocab_after}\")\n",
        "    print(f\"Reduction rate after removing stopwords: {reduction_rate_stopwords:.2%}\")\n",
        "    return df\n",
        "\n",
        "def apply_stemming(df):\n",
        "    # Apply stemming\n",
        "    stemmer = nltk.stem.SnowballStemmer('english')\n",
        "    df['tokens_stemmed'] = df['tokens_no_stopwords'].apply(lambda x: [stemmer.stem(word) for word in x])\n",
        "    # Compute the size of the vocabulary before and after stemming\n",
        "    vocab_before = len(set([word for tokens in df['tokens_no_stopwords'] for word in tokens]))\n",
        "    vocab_after = len(set([word for tokens in df['tokens_stemmed'] for word in tokens]))\n",
        "    if vocab_before > 0:\n",
        "        reduction_rate_stemming = (vocab_before - vocab_after) / vocab_before\n",
        "    else:\n",
        "        reduction_rate_stemming = 0\n",
        "    print(f\"Vocabulary size after stemming: {vocab_after}\")\n",
        "    print(f\"Reduction rate after stemming: {reduction_rate_stemming:.2%}\\n\")\n",
        "    return df\n"
      ]
    },
    {
      "cell_type": "markdown",
      "source": [
        "Part 1 Task 2\n"
      ],
      "metadata": {
        "id": "Q1IyBZS29xCO"
      }
    },
    {
      "cell_type": "code",
      "source": [
        "#In this cell we try to find interesting things about the FakeNewsCorpus dataset\n",
        "\n",
        "# read the csv file\n",
        "url = 'https://raw.githubusercontent.com/several27/FakeNewsCorpus/master/news_sample.csv'\n",
        "df = pd.read_csv(url)\n",
        "\n",
        "\n",
        "# Tokenize the text\n",
        "df = tokenize_text(df, 'content')\n",
        "\n",
        "# Create a frequency distribution of words in the dataset\n",
        "all_words = [word for tokens in df['tokens'] for word in tokens]\n",
        "freq_dist = nltk.FreqDist(all_words)\n",
        "\n",
        "# Print the 100 most common words\n",
        "print(\"100 most common words in the data before removing stopwords and stemming:\")\n",
        "for word, frequency in freq_dist.most_common(100):\n",
        "    print(f\"{word}: {frequency}\")\n",
        "\n",
        "# Remove stopwords\n",
        "df = remove_stopwords(df)\n",
        "\n",
        "# Apply stemming\n",
        "df = apply_stemming(df)\n",
        "\n",
        "# Create a frequency distribution of words in the dataset\n",
        "all_words = [word for tokens in df['tokens_stemmed'] for word in tokens]\n",
        "freq_dist = nltk.FreqDist(all_words)\n",
        "\n",
        "# Print the 100 most common words\n",
        "print(\"100 most common words in the data after removing stopwords and stemming:\")\n",
        "for word, frequency in freq_dist.most_common(100):\n",
        "    print(f\"{word}: {frequency}\")\n",
        "\n",
        "top_words = freq_dist.most_common(100)\n",
        "\n",
        "# This counts the frequency of each word\n",
        "word_freq = Counter(all_words)\n",
        "\n",
        "# We get the 50 most frequent words\n",
        "top_50 = word_freq.most_common(50)\n",
        "\n",
        "# Plot a bar chart of the top 50 words\n",
        "plt.bar([word[0] for word in top_50], [word[1] for word in top_50])\n",
        "plt.xticks(rotation=90)\n",
        "plt.title('Most Frequent words after removing stopwords and stemming')\n",
        "plt.xlabel(\"50 most frequent words\")\n",
        "plt.ylabel(\"Frequency\")\n",
        "plt.show()\n",
        "\n",
        "# Create a list of article lengths\n",
        "article_lengths = [len(article.split()) for article in df['content']]\n",
        "\n",
        "# Calculate the median article length\n",
        "median_article_length = statistics.median(article_lengths)\n",
        "print(f\"Median article length: {median_article_length}\")\n",
        "\n",
        "# Plot a histogram of the article lengths\n",
        "plt.hist(article_lengths, bins=50)\n",
        "plt.title('Distribution of Article Lengths')\n",
        "plt.xlabel('Article Length (in words)')\n",
        "plt.ylabel('Frequency')\n",
        "plt.show()"
      ],
      "metadata": {
        "colab": {
          "base_uri": "https://localhost:8080/",
          "height": 1000
        },
        "id": "Y_0WWQLS9zms",
        "outputId": "291f01c9-b870-4345-d858-7bd0cceeb845"
      },
      "execution_count": 11,
      "outputs": [
        {
          "output_type": "stream",
          "name": "stdout",
          "text": [
            "100 most common words in the data before removing stopwords and stemming:\n",
            "the: 9487\n",
            "of: 4965\n",
            "to: 4888\n",
            "and: 4697\n",
            "a: 3379\n",
            "in: 3108\n",
            "is: 2317\n",
            "that: 2203\n",
            "NUM: 2070\n",
            "for: 1552\n",
            "it: 1344\n",
            "are: 1233\n",
            "on: 1162\n",
            "with: 1159\n",
            "this: 1151\n",
            "you: 1141\n",
            "as: 1088\n",
            "be: 925\n",
            "i: 869\n",
            "by: 839\n",
            "have: 788\n",
            "not: 787\n",
            "was: 785\n",
            "from: 709\n",
            "at: 707\n",
            "or: 687\n",
            "we: 623\n",
            "they: 601\n",
            "its: 594\n",
            "but: 592\n",
            "your: 555\n",
            "has: 543\n",
            "an: 520\n",
            "their: 515\n",
            "can: 497\n",
            "all: 494\n",
            "will: 487\n",
            "more: 473\n",
            "about: 462\n",
            "if: 449\n",
            "us: 444\n",
            "one: 423\n",
            "what: 420\n",
            "who: 417\n",
            "he: 417\n",
            "were: 390\n",
            "which: 388\n",
            "so: 387\n",
            "there: 378\n",
            "people: 368\n",
            "our: 362\n",
            "his: 357\n",
            "these: 348\n",
            "been: 346\n",
            "no: 340\n",
            "like: 327\n",
            "would: 321\n",
            "do: 320\n",
            "when: 305\n",
            "trump: 301\n",
            "time: 291\n",
            "some: 282\n",
            "also: 276\n",
            "up: 271\n",
            "new: 270\n",
            "had: 268\n",
            "out: 268\n",
            "how: 264\n",
            "blockchain: 260\n",
            "my: 259\n",
            "into: 254\n",
            "other: 250\n",
            "any: 245\n",
            "just: 245\n",
            "now: 234\n",
            "said: 232\n",
            "many: 227\n",
            "only: 224\n",
            "than: 220\n",
            "market: 216\n",
            "next: 212\n",
            "even: 211\n",
            "URL: 208\n",
            "them: 205\n",
            "being: 204\n",
            "over: 204\n",
            "after: 203\n",
            "could: 201\n",
            "think: 200\n",
            "because: 197\n",
            "most: 196\n",
            "very: 193\n",
            "way: 191\n",
            "then: 191\n",
            "government: 190\n",
            "state: 186\n",
            "two: 185\n",
            "those: 185\n",
            "may: 184\n",
            "see: 183\n",
            "\n",
            "Vocabulary size before removing stopwords: 16599\n",
            "Vocabulary size after removing stopwords: 16467\n",
            "Reduction rate after removing stopwords: 0.80%\n",
            "Vocabulary size after stemming: 10943\n",
            "Reduction rate after stemming: 33.55%\n",
            "\n",
            "100 most common words in the data after removing stopwords and stemming:\n",
            "num: 2096\n",
            "one: 463\n",
            "us: 444\n",
            "like: 406\n",
            "time: 393\n",
            "peopl: 387\n",
            "state: 366\n",
            "trump: 348\n",
            "use: 322\n",
            "would: 321\n",
            "market: 296\n",
            "year: 282\n",
            "also: 276\n",
            "new: 270\n",
            "blockchain: 260\n",
            "make: 258\n",
            "think: 234\n",
            "thing: 233\n",
            "said: 232\n",
            "report: 232\n",
            "go: 232\n",
            "way: 228\n",
            "mani: 227\n",
            "govern: 225\n",
            "even: 216\n",
            "nation: 213\n",
            "take: 212\n",
            "next: 212\n",
            "get: 211\n",
            "url: 208\n",
            "see: 203\n",
            "presid: 202\n",
            "could: 201\n",
            "work: 191\n",
            "say: 191\n",
            "stock: 188\n",
            "american: 186\n",
            "two: 185\n",
            "world: 184\n",
            "may: 184\n",
            "need: 183\n",
            "first: 183\n",
            "right: 181\n",
            "day: 177\n",
            "life: 177\n",
            "power: 171\n",
            "want: 169\n",
            "look: 164\n",
            "help: 157\n",
            "come: 156\n",
            "countri: 154\n",
            "well: 154\n",
            "includ: 152\n",
            "bitcoin: 151\n",
            "feel: 151\n",
            "fact: 149\n",
            "person: 148\n",
            "war: 147\n",
            "bank: 146\n",
            "obama: 146\n",
            "good: 144\n",
            "search: 143\n",
            "back: 142\n",
            "headlin: 142\n",
            "sourc: 142\n",
            "much: 142\n",
            "call: 137\n",
            "part: 134\n",
            "support: 134\n",
            "exceed: 133\n",
            "polici: 132\n",
            "point: 130\n",
            "dont: 130\n",
            "law: 129\n",
            "know: 128\n",
            "last: 127\n",
            "system: 124\n",
            "clinton: 123\n",
            "live: 122\n",
            "follow: 122\n",
            "secur: 122\n",
            "research: 121\n",
            "polit: 121\n",
            "realli: 120\n",
            "continu: 119\n",
            "russia: 119\n",
            "product: 118\n",
            "money: 117\n",
            "free: 117\n",
            "question: 117\n",
            "high: 117\n",
            "long: 116\n",
            "end: 116\n",
            "compani: 116\n",
            "chang: 115\n",
            "public: 115\n",
            "import: 114\n",
            "global: 114\n",
            "industri: 114\n",
            "event: 113\n"
          ]
        },
        {
          "output_type": "display_data",
          "data": {
            "text/plain": [
              "<Figure size 640x480 with 1 Axes>"
            ],
            "image/png": "[encoded data removed]"
          },
          "metadata": {}
        },
        {
          "output_type": "stream",
          "name": "stdout",
          "text": [
            "Median article length: 468.5\n"
          ]
        },
        {
          "output_type": "display_data",
          "data": {
            "text/plain": [
              "<Figure size 640x480 with 1 Axes>"
            ],
            "image/png": "[encoded data removed]"
          },
          "metadata": {}
        }
      ]
    },
    {
      "cell_type": "markdown",
      "source": [
        "Part 1 Task 3"
      ],
      "metadata": {
        "id": "Yja0gAw8AjQ1"
      }
    },
    {
      "cell_type": "code",
      "source": [
        "from google.colab import drive\n",
        "drive.mount('/content/drive')\n",
        "\n",
        "%cd /content/drive/MyDrive/Colab Notebooks\n",
        "\n"
      ],
      "metadata": {
        "id": "pohhNvRzAyzL",
        "colab": {
          "base_uri": "https://localhost:8080/"
        },
        "outputId": "90514fee-e7da-43d9-e6d1-109ec4c35c86"
      },
      "execution_count": 12,
      "outputs": [
        {
          "output_type": "stream",
          "name": "stdout",
          "text": [
            "Drive already mounted at /content/drive; to attempt to forcibly remount, call drive.mount(\"/content/drive\", force_remount=True).\n",
            "/content/drive/MyDrive/Colab Notebooks\n"
          ]
        }
      ]
    },
    {
      "cell_type": "code",
      "source": [
        "import pandas as pd\n",
        "df = pd.read_csv('news_cleaned_2018_02_13.csv', dtype={0: str, 1: str})\n",
        "\n",
        "columns = df.columns\n",
        "\n",
        "# Print the column names\n",
        "print(columns)"
      ],
      "metadata": {
        "id": "y-8hoHufzM65"
      },
      "execution_count": null,
      "outputs": []
    },
    {
      "cell_type": "code",
      "source": [
        "import numpy as np\n",
        "#Count each type. \n",
        "df['type'].value_counts()\n",
        "\n",
        "#Assign label 1 to reliable articles and the rest 0. \n",
        "df['label'] = 0\n",
        "df.loc[(df['type'] == 'political') | (df['type'] == 'reliable'), 'label'] = 1\n",
        "print(df['label'])\n",
        "\n",
        "print(np.shape(df['content']))\n",
        "print(df['label'].shape)"
      ],
      "metadata": {
        "id": "HBjYOe-UzNkj"
      },
      "execution_count": null,
      "outputs": []
    },
    {
      "cell_type": "code",
      "source": [
        "from sklearn.model_selection import train_test_split\n",
        "\n",
        "\n",
        "\n",
        "\n",
        "# Split the data into training and test sets\n",
        "X_train, X_test, y_train, y_test = train_test_split(df['content'], df['label'], test_size=0.90, random_state=42)\n",
        "# Print the shapes of the training and test sets\n",
        "print('Training Set:', X_train.shape, y_train.shape)\n",
        "print('Test Set:', X_test.shape, y_test.shape)"
      ],
      "metadata": {
        "id": "gPZ8moGZzRCb"
      },
      "execution_count": null,
      "outputs": []
    },
    {
      "cell_type": "code",
      "source": [
        "import nltk\n",
        "from nltk.corpus import stopwords\n",
        "from nltk.tokenize import word_tokenize\n",
        "from nltk.stem import PorterStemmer\n",
        "import pandas as pd\n",
        "import re\n",
        "import csv\n",
        "import math\n",
        "\n",
        "# download the necessary resources if not already downloaded\n",
        "nltk.download('punkt')\n",
        "nltk.download('stopwords')\n",
        "\n",
        "def clean_text(txt):\n",
        "    if pd.isna(txt):\n",
        "        return ''\n",
        "    #lowercasing text\n",
        "    txt = txt.lower()\n",
        "    #Removing excess whitespace, tabs and new lines\n",
        "    txt = re.sub(r\"\\s+\", \" \", txt)\n",
        "    #remove special characters\n",
        "    txt = re.sub(r\"[^\\w\\s]+|<|>\", \"\", txt)\n",
        "    #numbers replaced with \"<NUM>\"#\n",
        "    txt = re.sub(r\"\\d+\", \"NUM\", txt)\n",
        "    #Dates replaced with \"<DATE>\"#\n",
        "    txt = re.sub(r\"\\d{4}-\\d{2}-\\d{2}\", \"DATE\", txt)\n",
        "    #Emails replaces with \"<EMAIL>\"#\n",
        "    txt = re.sub(r\"\\S+@\\S+\", \"EMAIL\", txt)\n",
        "    #URLS replaces with \"<URL>\"\n",
        "    txt = re.sub(r\"http\\S+\", \"URL\", txt)\n",
        "\n",
        "    return txt\n",
        "\n",
        "def tokenize_text(df):\n",
        "    # Apply clean_text function to the text in the specified column\n",
        "    df['clean_text'] = df.apply(clean_text)\n",
        "    # Tokenize the text\n",
        "    df['tokens'] = df['clean_text'].apply(nltk.word_tokenize)\n",
        "    return df\n",
        "\n",
        "def remove_stopwords(df):\n",
        "    # Remove stopwords\n",
        "    stopwords = set(nltk.corpus.stopwords.words('english'))\n",
        "    df['tokens_no_stopwords'] = df['tokens'].apply(lambda x: [word for word in x if word not in stopwords])\n",
        "    # Compute the size of the vocabulary before and after removing stopwords\n",
        "    vocab_before = len(set([word for tokens in df['tokens'] for word in tokens]))\n",
        "    vocab_after = len(set([word for tokens in df['tokens_no_stopwords'] for word in tokens]))\n",
        "    reduction_rate_stopwords = (vocab_before - vocab_after) / vocab_before\n",
        "    print(f\"Vocabulary size before removing stopwords: {vocab_before}\")\n",
        "    print(f\"Vocabulary size after removing stopwords: {vocab_after}\")\n",
        "    print(f\"Reduction rate after removing stopwords: {reduction_rate_stopwords:.2%}\")\n",
        "    return df\n",
        "\n",
        "def apply_stemming(df):\n",
        "    # Apply stemming\n",
        "    stemmer = nltk.stem.SnowballStemmer('english')\n",
        "    df['tokens_stemmed'] = df['tokens_no_stopwords'].apply(lambda x: [stemmer.stem(word) for word in x])\n",
        "    # Compute the size of the vocabulary before and after stemming\n",
        "    vocab_before = len(set([word for tokens in df['tokens_no_stopwords'] for word in tokens]))\n",
        "    vocab_after = len(set([word for tokens in df['tokens_stemmed'] for word in tokens]))\n",
        "    reduction_rate_stemming = (vocab_before - vocab_after) / vocab_before\n",
        "    print(f\"Vocabulary size after stemming: {vocab_after}\")\n",
        "    print(f\"Reduction rate after stemming: {reduction_rate_stemming:.2%}\")\n",
        "    return df\n",
        "\n",
        "\n",
        "# Read the file, skipping the first `skip_rows` rows\n",
        "\n",
        "\n",
        "# Tokenize the text\n",
        "df = tokenize_text(X_train)\n",
        "\n",
        "# Remove stopwords\n",
        "df = remove_stopwords(X_train)\n",
        "\n",
        "# Apply stemming\n",
        "df = apply_stemming(X_train)"
      ],
      "metadata": {
        "id": "tvNjnEv8zcNQ"
      },
      "execution_count": null,
      "outputs": []
    },
    {
      "cell_type": "markdown",
      "source": [
        "Part 1 Task 4"
      ],
      "metadata": {
        "id": "5l4R12S7Cgpu"
      }
    },
    {
      "cell_type": "code",
      "source": [
        "X_train, X_test, y_train, y_test = train_test_split(X_train, y_train, test_size=0.20, random_state=42)\n",
        "X_val, X_test, y_val, y_test = train_test_split(X_test, y_test, test_size=0.50, random_state=42)\n",
        "\n",
        "print('Training Set:', X_train.shape, y_train.shape)\n",
        "print('Test Set:', X_test.shape, y_test.shape)\n",
        "print('vaildation', X_val.shape, y_val.shape)"
      ],
      "metadata": {
        "id": "W4oerCUcCj4R"
      },
      "execution_count": null,
      "outputs": []
    },
    {
      "cell_type": "markdown",
      "source": [
        "Part 2 Task 1"
      ],
      "metadata": {
        "id": "h3IrwVtsEBwt"
      }
    },
    {
      "cell_type": "code",
      "source": [
        "df = pd.read_csv('1mio-raw.csv', dtype={0: str, 1: str})\n",
        "\n",
        "#Count each type. \n",
        "df['type'].value_counts()\n",
        "\n",
        "#Assign label 1 to reliable articles and the rest 0. \n",
        "df['label'] = 0\n",
        "df.loc[(df['type'] == 'political') | (df['type'] == 'reliable'), 'label'] = 1\n",
        "print(df['label'])\n",
        "\n",
        "print(np.shape(df['content']))\n",
        "print(df['label'].shape)\n",
        "\n",
        "\n"
      ],
      "metadata": {
        "id": "2m7W2IAHQG8x",
        "colab": {
          "base_uri": "https://localhost:8080/"
        },
        "outputId": "76cb8b70-c6db-43d8-9e94-f134da02f79f"
      },
      "execution_count": 13,
      "outputs": [
        {
          "output_type": "stream",
          "name": "stdout",
          "text": [
            "0         0\n",
            "1         0\n",
            "2         0\n",
            "3         0\n",
            "4         0\n",
            "         ..\n",
            "999995    0\n",
            "999996    0\n",
            "999997    0\n",
            "999998    0\n",
            "999999    0\n",
            "Name: label, Length: 1000000, dtype: int64\n",
            "(1000000,)\n",
            "(1000000,)\n"
          ]
        }
      ]
    },
    {
      "cell_type": "code",
      "source": [
        "# Split the data into training and test sets\n",
        "X_train, X_test, y_train, y_test = train_test_split(df['content'], df['label'], test_size=0.99, random_state=42)\n",
        "X_testr, X_test, y_testr, y_test = train_test_split( X_test, y_test, test_size=0.99, random_state=42)\n",
        "# Print the shapes of the training and test sets\n",
        "print('Training Set:', X_train.shape, y_train.shape)\n",
        "print('Testr Set:', X_testr.shape, y_testr.shape)\n",
        "print('Test Set:', X_test.shape, y_test.shape)"
      ],
      "metadata": {
        "id": "-NO2s-SUR4Rk",
        "colab": {
          "base_uri": "https://localhost:8080/"
        },
        "outputId": "f3bd9d6c-cb71-4f4a-ad5f-9c150b286f15"
      },
      "execution_count": 14,
      "outputs": [
        {
          "output_type": "stream",
          "name": "stdout",
          "text": [
            "Training Set: (10000,) (10000,)\n",
            "Testr Set: (9900,) (9900,)\n",
            "Test Set: (980100,) (980100,)\n"
          ]
        }
      ]
    },
    {
      "cell_type": "code",
      "source": [
        "# Vectorize data\n",
        "tfidf_vectorizer = TfidfVectorizer(stop_words='english')\n",
        "X_train_tfidf = tfidf_vectorizer.fit_transform(X_train)\n",
        "X_test_tfidf = tfidf_vectorizer.transform(X_testr)\n",
        "\n",
        "lr_params = {\"C\": [0.1, 1, 10], \"class_weight\": [\"balanced\"], \"solver\": [\"lbfgs\"]}\n",
        "\n",
        "# Train logistic regression with TF-IDF features\n",
        "lr_tfidf = GridSearchCV(LogisticRegression(), lr_params, cv=5)\n",
        "lr_tfidf.fit(X_train_tfidf, y_train)\n",
        "\n",
        "# Predict on testing set\n",
        "y_pred_lr_tfidf = lr_tfidf.predict(X_test_tfidf)\n",
        "\n",
        "# Evaluate performance\n",
        "lr_tfidf_accuracy = accuracy_score(y_testr, y_pred_lr_tfidf)\n",
        "lr_tfidf_precision = precision_score(y_testr, y_pred_lr_tfidf, pos_label=1, zero_division=1)\n",
        "lr_tfidf_recall = recall_score(y_testr, y_pred_lr_tfidf, pos_label=1)\n",
        "lr_tfidf_f1 = f1_score(y_testr, y_pred_lr_tfidf, pos_label=1)\n",
        "\n",
        "# Print results\n",
        "print(\"Logistic Regression with TF-IDF\")\n",
        "print(\"Accuracy:\", lr_tfidf_accuracy)\n",
        "print(\"Precision:\", lr_tfidf_precision)\n",
        "print(\"Recall:\", lr_tfidf_recall)\n",
        "print(\"F1 Score:\", lr_tfidf_f1)"
      ],
      "metadata": {
        "id": "vYsH2_fkMQ9r",
        "colab": {
          "base_uri": "https://localhost:8080/"
        },
        "outputId": "464d966d-033e-489b-d0e2-d44de7b291b2"
      },
      "execution_count": 15,
      "outputs": [
        {
          "output_type": "stream",
          "name": "stdout",
          "text": [
            "Logistic Regression with TF-IDF\n",
            "Accuracy: 0.8344444444444444\n",
            "Precision: 0.71685173089484\n",
            "Recall: 0.7398045163464779\n",
            "F1 Score: 0.7281472881074806\n"
          ]
        },
        {
          "output_type": "stream",
          "name": "stderr",
          "text": [
            "/usr/local/lib/python3.9/dist-packages/sklearn/linear_model/_logistic.py:458: ConvergenceWarning: lbfgs failed to converge (status=1):\n",
            "STOP: TOTAL NO. of ITERATIONS REACHED LIMIT.\n",
            "\n",
            "Increase the number of iterations (max_iter) or scale the data as shown in:\n",
            "    https://scikit-learn.org/stable/modules/preprocessing.html\n",
            "Please also refer to the documentation for alternative solver options:\n",
            "    https://scikit-learn.org/stable/modules/linear_model.html#logistic-regression\n",
            "  n_iter_i = _check_optimize_result(\n"
          ]
        }
      ]
    },
    {
      "cell_type": "code",
      "source": [],
      "metadata": {
        "id": "1nci7j7GvP9p"
      },
      "execution_count": 15,
      "outputs": []
    },
    {
      "cell_type": "markdown",
      "source": [
        "# Part 3"
      ],
      "metadata": {
        "id": "65MHDpHdwUna"
      }
    },
    {
      "cell_type": "markdown",
      "source": [
        "Tokenize the data"
      ],
      "metadata": {
        "id": "uYanUL2lwp5u"
      }
    },
    {
      "cell_type": "code",
      "source": [
        "from tensorflow.keras.preprocessing.text import Tokenizer\n",
        "from tensorflow.keras.preprocessing.sequence import pad_sequences\n",
        "import tensorflow as tf\n",
        "\n",
        "\n",
        "# Define the maximum number of words to consider when tokenizing the text data\n",
        "max_words = 1000\n",
        "\n",
        "# Tokenize the text data\n",
        "tokenizer = Tokenizer(num_words=max_words)\n",
        "tokenizer.fit_on_texts(X_train.astype(str))\n",
        "sequences = tokenizer.texts_to_sequences(X_train.astype(str))"
      ],
      "metadata": {
        "id": "Is7iiOCVwXjM"
      },
      "execution_count": 16,
      "outputs": []
    },
    {
      "cell_type": "markdown",
      "source": [
        "Define and train model"
      ],
      "metadata": {
        "id": "xn0gIUouwyF-"
      }
    },
    {
      "cell_type": "code",
      "source": [
        "\n",
        "maxlen = 1000 # Set the maximum length of a sequence\n",
        "X_train = pad_sequences(sequences, maxlen=maxlen)\n",
        "\n",
        "num_classes = 1 # Binary classification\n",
        "y_train = y_train.values.reshape(-1, 1)\n",
        "\n",
        "\n",
        "\n",
        "# Define the model\n",
        "model = tf.keras.Sequential([\n",
        "    tf.keras.layers.Embedding(input_dim=max_words, output_dim=64, input_length=maxlen),\n",
        "    tf.keras.layers.GlobalAveragePooling1D(),\n",
        "   tf.keras.layers.Dense(units=num_classes, activation='sigmoid')\n",
        "])\n",
        "\n",
        "# Compile the model\n",
        "model.compile(optimizer='adam', loss='binary_crossentropy', metrics=['accuracy', tf.keras.metrics.Precision(), tf.keras.metrics.Recall(), tf.keras.metrics.AUC()])\n",
        "\n",
        "# Train the model\n",
        "model.fit(X_train, y_train, epochs=40, batch_size=100)\n",
        "\n",
        "# Tokenize the test data\n",
        "sequences_test = tokenizer.texts_to_sequences(X_testr)\n",
        "X_testr = pad_sequences(sequences_test, maxlen=maxlen)\n",
        "\n",
        "# Convert the test labels to a tensor\n",
        "y_testr = y_testr.values.reshape(-1, 1)\n",
        "\n",
        "\n",
        "# Evaluate the model on the test set\n",
        "test_loss, test_accuracy, precision, recall, auc = model.evaluate(X_testr, y_testr, verbose=0)\n",
        "\n",
        "\n",
        "# Print the test accuracy\n",
        "print(f'Test accuracy: {test_accuracy}')\n",
        "print(f'Test precision: {precision}')\n",
        "print(f'Test recall: {recall}')\n",
        "print(f'Test AUC: {auc}')"
      ],
      "metadata": {
        "id": "EKti173nwyhn",
        "colab": {
          "base_uri": "https://localhost:8080/"
        },
        "outputId": "3639f287-e004-4ce1-f58e-86a94344c1a9"
      },
      "execution_count": 17,
      "outputs": [
        {
          "output_type": "stream",
          "name": "stdout",
          "text": [
            "Epoch 1/40\n",
            "100/100 [==============================] - 4s 23ms/step - loss: 0.6213 - accuracy: 0.6965 - precision: 0.0000e+00 - recall: 0.0000e+00 - auc: 0.5523\n",
            "Epoch 2/40\n",
            "100/100 [==============================] - 2s 22ms/step - loss: 0.5886 - accuracy: 0.6969 - precision: 0.5227 - recall: 0.0152 - auc: 0.6714\n",
            "Epoch 3/40\n",
            "100/100 [==============================] - 2s 24ms/step - loss: 0.5755 - accuracy: 0.7074 - precision: 0.6438 - recall: 0.0804 - auc: 0.7027\n",
            "Epoch 4/40\n",
            "100/100 [==============================] - 2s 24ms/step - loss: 0.5591 - accuracy: 0.7185 - precision: 0.7132 - recall: 0.1213 - auc: 0.7374\n",
            "Epoch 5/40\n",
            "100/100 [==============================] - 3s 32ms/step - loss: 0.5402 - accuracy: 0.7240 - precision: 0.7074 - recall: 0.1545 - auc: 0.7693\n",
            "Epoch 6/40\n",
            "100/100 [==============================] - 3s 29ms/step - loss: 0.5214 - accuracy: 0.7309 - precision: 0.7222 - recall: 0.1842 - auc: 0.7952\n",
            "Epoch 7/40\n",
            "100/100 [==============================] - 2s 24ms/step - loss: 0.5052 - accuracy: 0.7392 - precision: 0.7509 - recall: 0.2105 - auc: 0.8119\n",
            "Epoch 8/40\n",
            "100/100 [==============================] - 2s 23ms/step - loss: 0.4919 - accuracy: 0.7461 - precision: 0.7431 - recall: 0.2498 - auc: 0.8269\n",
            "Epoch 9/40\n",
            "100/100 [==============================] - 2s 23ms/step - loss: 0.4797 - accuracy: 0.7561 - precision: 0.7690 - recall: 0.2807 - auc: 0.8353\n",
            "Epoch 10/40\n",
            "100/100 [==============================] - 3s 29ms/step - loss: 0.4690 - accuracy: 0.7619 - precision: 0.7646 - recall: 0.3114 - auc: 0.8435\n",
            "Epoch 11/40\n",
            "100/100 [==============================] - 4s 43ms/step - loss: 0.4607 - accuracy: 0.7676 - precision: 0.7679 - recall: 0.3357 - auc: 0.8482\n",
            "Epoch 12/40\n",
            "100/100 [==============================] - 2s 23ms/step - loss: 0.4522 - accuracy: 0.7708 - precision: 0.7698 - recall: 0.3493 - auc: 0.8557\n",
            "Epoch 13/40\n",
            "100/100 [==============================] - 2s 24ms/step - loss: 0.4448 - accuracy: 0.7758 - precision: 0.7775 - recall: 0.3661 - auc: 0.8572\n",
            "Epoch 14/40\n",
            "100/100 [==============================] - 2s 23ms/step - loss: 0.4378 - accuracy: 0.7793 - precision: 0.7775 - recall: 0.3822 - auc: 0.8616\n",
            "Epoch 15/40\n",
            "100/100 [==============================] - 4s 42ms/step - loss: 0.4309 - accuracy: 0.7834 - precision: 0.7831 - recall: 0.3960 - auc: 0.8699\n",
            "Epoch 16/40\n",
            "100/100 [==============================] - 3s 30ms/step - loss: 0.4246 - accuracy: 0.7883 - precision: 0.7898 - recall: 0.4122 - auc: 0.8717\n",
            "Epoch 17/40\n",
            "100/100 [==============================] - 2s 23ms/step - loss: 0.4189 - accuracy: 0.7923 - precision: 0.7928 - recall: 0.4273 - auc: 0.8747\n",
            "Epoch 18/40\n",
            "100/100 [==============================] - 2s 23ms/step - loss: 0.4142 - accuracy: 0.7930 - precision: 0.7940 - recall: 0.4293 - auc: 0.8771\n",
            "Epoch 19/40\n",
            "100/100 [==============================] - 2s 23ms/step - loss: 0.4086 - accuracy: 0.8018 - precision: 0.8070 - recall: 0.4560 - auc: 0.8791\n",
            "Epoch 20/40\n",
            "100/100 [==============================] - 3s 25ms/step - loss: 0.4038 - accuracy: 0.8038 - precision: 0.8092 - recall: 0.4626 - auc: 0.8829\n",
            "Epoch 21/40\n",
            "100/100 [==============================] - 4s 37ms/step - loss: 0.3994 - accuracy: 0.8074 - precision: 0.8135 - recall: 0.4741 - auc: 0.8855\n",
            "Epoch 22/40\n",
            "100/100 [==============================] - 2s 24ms/step - loss: 0.3951 - accuracy: 0.8098 - precision: 0.8097 - recall: 0.4880 - auc: 0.8874\n",
            "Epoch 23/40\n",
            "100/100 [==============================] - 2s 23ms/step - loss: 0.3914 - accuracy: 0.8120 - precision: 0.8147 - recall: 0.4926 - auc: 0.8890\n",
            "Epoch 24/40\n",
            "100/100 [==============================] - 2s 23ms/step - loss: 0.3876 - accuracy: 0.8142 - precision: 0.8176 - recall: 0.4992 - auc: 0.8904\n",
            "Epoch 25/40\n",
            "100/100 [==============================] - 2s 23ms/step - loss: 0.3846 - accuracy: 0.8155 - precision: 0.8145 - recall: 0.5077 - auc: 0.8917\n",
            "Epoch 26/40\n",
            "100/100 [==============================] - 4s 35ms/step - loss: 0.3812 - accuracy: 0.8186 - precision: 0.8162 - recall: 0.5193 - auc: 0.8926\n",
            "Epoch 27/40\n",
            "100/100 [==============================] - 3s 28ms/step - loss: 0.3778 - accuracy: 0.8198 - precision: 0.8196 - recall: 0.5209 - auc: 0.8943\n",
            "Epoch 28/40\n",
            "100/100 [==============================] - 2s 23ms/step - loss: 0.3749 - accuracy: 0.8207 - precision: 0.8214 - recall: 0.5229 - auc: 0.8965\n",
            "Epoch 29/40\n",
            "100/100 [==============================] - 2s 22ms/step - loss: 0.3727 - accuracy: 0.8224 - precision: 0.8187 - recall: 0.5328 - auc: 0.8956\n",
            "Epoch 30/40\n",
            "100/100 [==============================] - 2s 23ms/step - loss: 0.3692 - accuracy: 0.8256 - precision: 0.8275 - recall: 0.5374 - auc: 0.8981\n",
            "Epoch 31/40\n",
            "100/100 [==============================] - 3s 29ms/step - loss: 0.3683 - accuracy: 0.8271 - precision: 0.8278 - recall: 0.5433 - auc: 0.8976\n",
            "Epoch 32/40\n",
            "100/100 [==============================] - 3s 33ms/step - loss: 0.3646 - accuracy: 0.8274 - precision: 0.8216 - recall: 0.5509 - auc: 0.9008\n",
            "Epoch 33/40\n",
            "100/100 [==============================] - 2s 23ms/step - loss: 0.3626 - accuracy: 0.8294 - precision: 0.8256 - recall: 0.5552 - auc: 0.9017\n",
            "Epoch 34/40\n",
            "100/100 [==============================] - 2s 23ms/step - loss: 0.3607 - accuracy: 0.8282 - precision: 0.8245 - recall: 0.5512 - auc: 0.9016\n",
            "Epoch 35/40\n",
            "100/100 [==============================] - 2s 24ms/step - loss: 0.3593 - accuracy: 0.8299 - precision: 0.8238 - recall: 0.5591 - auc: 0.9022\n",
            "Epoch 36/40\n",
            "100/100 [==============================] - 2s 24ms/step - loss: 0.3568 - accuracy: 0.8321 - precision: 0.8320 - recall: 0.5598 - auc: 0.9034\n",
            "Epoch 37/40\n",
            "100/100 [==============================] - 4s 38ms/step - loss: 0.3558 - accuracy: 0.8318 - precision: 0.8245 - recall: 0.5664 - auc: 0.9042\n",
            "Epoch 38/40\n",
            "100/100 [==============================] - 2s 24ms/step - loss: 0.3538 - accuracy: 0.8336 - precision: 0.8336 - recall: 0.5644 - auc: 0.9046\n",
            "Epoch 39/40\n",
            "100/100 [==============================] - 2s 25ms/step - loss: 0.3516 - accuracy: 0.8322 - precision: 0.8257 - recall: 0.5667 - auc: 0.9062\n",
            "Epoch 40/40\n",
            "100/100 [==============================] - 2s 24ms/step - loss: 0.3509 - accuracy: 0.8374 - precision: 0.8360 - recall: 0.5776 - auc: 0.9054\n",
            "Test accuracy: 0.7987878918647766\n",
            "Test precision: 0.746835470199585\n",
            "Test recall: 0.4971351623535156\n",
            "Test AUC: 0.8631921410560608\n"
          ]
        }
      ]
    },
    {
      "cell_type": "markdown",
      "source": [
        "#part 4"
      ],
      "metadata": {
        "id": "EwVGGTa9xYOz"
      }
    },
    {
      "cell_type": "markdown",
      "source": [
        "# Task 1"
      ],
      "metadata": {
        "id": "-n1ajuRXxd29"
      }
    },
    {
      "cell_type": "markdown",
      "source": [
        "Binary prediction is made"
      ],
      "metadata": {
        "id": "qj_644IRw9ge"
      }
    },
    {
      "cell_type": "code",
      "source": [
        "y_pred = model.predict(X_testr)\n",
        "threshold = 0.5\n",
        "\n",
        "# Create binary targets using thresholding\n",
        "y_pred = np.where(y_pred > threshold, 1, 0)\n",
        "\n",
        "print(X_testr.shape)\n",
        "print(y_pred.shape)\n"
      ],
      "metadata": {
        "id": "QzuQGJP5xIEq",
        "colab": {
          "base_uri": "https://localhost:8080/"
        },
        "outputId": "d4e4f6c0-12bf-49a5-c75c-e9521d2f6159"
      },
      "execution_count": 18,
      "outputs": [
        {
          "output_type": "stream",
          "name": "stdout",
          "text": [
            "310/310 [==============================] - 1s 4ms/step\n",
            "(9900, 1000)\n",
            "(9900, 1)\n"
          ]
        }
      ]
    },
    {
      "cell_type": "markdown",
      "source": [
        "F score i calculated"
      ],
      "metadata": {
        "id": "WirtaUDNxNlS"
      }
    },
    {
      "cell_type": "code",
      "source": [
        "import numpy as np\n",
        "from sklearn.metrics import precision_score, recall_score, f1_score\n",
        "\n",
        "\n",
        "# Calculate the F-score for each class\n",
        "f_score = f1_score(y_testr, y_pred)\n",
        "\n",
        "# Print the results\n",
        "print('F-score:', f_score)"
      ],
      "metadata": {
        "id": "I6kHYz7axOKF",
        "colab": {
          "base_uri": "https://localhost:8080/"
        },
        "outputId": "eabcdbf5-a90c-40f5-b3a4-9841ebdcd335"
      },
      "execution_count": 19,
      "outputs": [
        {
          "output_type": "stream",
          "name": "stdout",
          "text": [
            "F-score: 0.5969243221367867\n"
          ]
        }
      ]
    },
    {
      "cell_type": "markdown",
      "source": [
        "# Task2"
      ],
      "metadata": {
        "id": "kbIeUtXpxkPA"
      }
    },
    {
      "cell_type": "markdown",
      "source": [
        "# liar data sæt"
      ],
      "metadata": {
        "id": "wL_bj8u_xS7R"
      }
    },
    {
      "cell_type": "markdown",
      "source": [
        "Load train data"
      ],
      "metadata": {
        "id": "g-nnJgbWxvz4"
      }
    },
    {
      "cell_type": "code",
      "source": [
        "import pandas as pd\n",
        "\n",
        "# Read the TSV file into a DataFrame\n",
        "df = pd.read_csv('train.tsv', sep='\\t')\n",
        "\n",
        "columns = df.columns\n",
        "\n",
        "# Print the column names\n",
        "print(columns)"
      ],
      "metadata": {
        "id": "qYB--Vd2xV1s",
        "colab": {
          "base_uri": "https://localhost:8080/"
        },
        "outputId": "08f034d6-52b9-4c2c-8a23-3a3dd306e2c9"
      },
      "execution_count": 21,
      "outputs": [
        {
          "output_type": "stream",
          "name": "stdout",
          "text": [
            "Index(['2635.json', 'false',\n",
            "       'Says the Annies List political group supports third-trimester abortions on demand.',\n",
            "       'abortion', 'dwayne-bohac', 'State representative', 'Texas',\n",
            "       'republican', '0', '1', '0.1', '0.2', '0.3', 'a mailer'],\n",
            "      dtype='object')\n"
          ]
        }
      ]
    },
    {
      "cell_type": "markdown",
      "source": [
        "Make binary labels"
      ],
      "metadata": {
        "id": "Gw13f93vxypd"
      }
    },
    {
      "cell_type": "code",
      "source": [
        "#Count each type. \n",
        "df['false'].value_counts()\n",
        "\n",
        "#Assign label 1 to reliable articles and the rest 0. \n",
        "df['label'] = 0\n",
        "df.loc[(df['false'] == 'false') | (df['false'] == 'true') | (df['false'] == 'mostly-true'), 'label'] = 1\n",
        "print(df['label'])\n"
      ],
      "metadata": {
        "id": "kO0s6lrYx0aa",
        "colab": {
          "base_uri": "https://localhost:8080/"
        },
        "outputId": "e8b0cea3-2b07-4bfb-f907-244077c60fcf"
      },
      "execution_count": 22,
      "outputs": [
        {
          "output_type": "stream",
          "name": "stdout",
          "text": [
            "0        0\n",
            "1        1\n",
            "2        1\n",
            "3        0\n",
            "4        1\n",
            "        ..\n",
            "10234    1\n",
            "10235    1\n",
            "10236    0\n",
            "10237    1\n",
            "10238    0\n",
            "Name: label, Length: 10239, dtype: int64\n"
          ]
        }
      ]
    },
    {
      "cell_type": "markdown",
      "source": [
        "Tokenize and fit data into model"
      ],
      "metadata": {
        "id": "JvNR40gPx360"
      }
    },
    {
      "cell_type": "code",
      "source": [
        "# Define the maximum number of words to consider when tokenizing the text data\n",
        "max_words = 1000\n",
        "\n",
        "# Tokenize the text data\n",
        "tokenizer = Tokenizer(num_words=max_words)\n",
        "tokenizer.fit_on_texts(df['Says the Annies List political group supports third-trimester abortions on demand.'].astype(str))\n",
        "sequences = tokenizer.texts_to_sequences(df['Says the Annies List political group supports third-trimester abortions on demand.'].astype(str))\n",
        "\n",
        "# Pad the sequences to have the same length\n",
        "maxlen = 1000 # Set the maximum length of a sequence\n",
        "X = pad_sequences(sequences, maxlen=maxlen)\n",
        "\n",
        "# Convert the labels to a tensor\n",
        "num_classes = 1\n",
        "y = df['label'].values.reshape(-1, 1)\n",
        "\n",
        "\n",
        "model.fit(X, y, epochs=40, batch_size=32)"
      ],
      "metadata": {
        "id": "Uw_kK6oqx63A",
        "colab": {
          "base_uri": "https://localhost:8080/"
        },
        "outputId": "184e2d33-2262-4eaa-f82b-47475c1d7dd0"
      },
      "execution_count": 24,
      "outputs": [
        {
          "output_type": "stream",
          "name": "stdout",
          "text": [
            "Epoch 1/40\n",
            "320/320 [==============================] - 6s 18ms/step - loss: 0.6900 - accuracy: 0.5423 - precision: 0.5552 - recall: 0.8453 - auc: 0.5198\n",
            "Epoch 2/40\n",
            "320/320 [==============================] - 4s 12ms/step - loss: 0.6890 - accuracy: 0.5484 - precision: 0.5596 - recall: 0.8398 - auc: 0.5290\n",
            "Epoch 3/40\n",
            "320/320 [==============================] - 4s 12ms/step - loss: 0.6894 - accuracy: 0.5458 - precision: 0.5611 - recall: 0.7997 - auc: 0.5300\n",
            "Epoch 4/40\n",
            "320/320 [==============================] - 3s 10ms/step - loss: 0.6875 - accuracy: 0.5500 - precision: 0.5599 - recall: 0.8500 - auc: 0.5350\n",
            "Epoch 5/40\n",
            "320/320 [==============================] - 3s 10ms/step - loss: 0.6849 - accuracy: 0.5572 - precision: 0.5635 - recall: 0.8652 - auc: 0.5479\n",
            "Epoch 6/40\n",
            "320/320 [==============================] - 4s 11ms/step - loss: 0.6839 - accuracy: 0.5604 - precision: 0.5664 - recall: 0.8567 - auc: 0.5523\n",
            "Epoch 7/40\n",
            "320/320 [==============================] - 4s 13ms/step - loss: 0.6825 - accuracy: 0.5644 - precision: 0.5684 - recall: 0.8645 - auc: 0.5604\n",
            "Epoch 8/40\n",
            "320/320 [==============================] - 3s 10ms/step - loss: 0.6818 - accuracy: 0.5611 - precision: 0.5678 - recall: 0.8461 - auc: 0.5642\n",
            "Epoch 9/40\n",
            "320/320 [==============================] - 3s 10ms/step - loss: 0.6808 - accuracy: 0.5670 - precision: 0.5719 - recall: 0.8464 - auc: 0.5705\n",
            "Epoch 10/40\n",
            "320/320 [==============================] - 3s 11ms/step - loss: 0.6791 - accuracy: 0.5713 - precision: 0.5746 - recall: 0.8501 - auc: 0.5786\n",
            "Epoch 11/40\n",
            "320/320 [==============================] - 4s 13ms/step - loss: 0.6780 - accuracy: 0.5783 - precision: 0.5804 - recall: 0.8418 - auc: 0.5812\n",
            "Epoch 12/40\n",
            "320/320 [==============================] - 3s 10ms/step - loss: 0.6776 - accuracy: 0.5708 - precision: 0.5777 - recall: 0.8169 - auc: 0.5802\n",
            "Epoch 13/40\n",
            "320/320 [==============================] - 3s 10ms/step - loss: 0.6757 - accuracy: 0.5769 - precision: 0.5798 - recall: 0.8386 - auc: 0.5927\n",
            "Epoch 14/40\n",
            "320/320 [==============================] - 3s 10ms/step - loss: 0.6744 - accuracy: 0.5845 - precision: 0.5846 - recall: 0.8455 - auc: 0.5981\n",
            "Epoch 15/40\n",
            "320/320 [==============================] - 4s 14ms/step - loss: 0.6734 - accuracy: 0.5819 - precision: 0.5835 - recall: 0.8379 - auc: 0.6011\n",
            "Epoch 16/40\n",
            "320/320 [==============================] - 3s 10ms/step - loss: 0.6730 - accuracy: 0.5867 - precision: 0.5879 - recall: 0.8311 - auc: 0.6025\n",
            "Epoch 17/40\n",
            "320/320 [==============================] - 3s 10ms/step - loss: 0.6720 - accuracy: 0.5878 - precision: 0.5899 - recall: 0.8221 - auc: 0.6046\n",
            "Epoch 18/40\n",
            "320/320 [==============================] - 3s 10ms/step - loss: 0.6691 - accuracy: 0.5940 - precision: 0.5940 - recall: 0.8274 - auc: 0.6160\n",
            "Epoch 19/40\n",
            "320/320 [==============================] - 5s 15ms/step - loss: 0.6694 - accuracy: 0.5943 - precision: 0.5949 - recall: 0.8223 - auc: 0.6144\n",
            "Epoch 20/40\n",
            "320/320 [==============================] - 3s 10ms/step - loss: 0.6697 - accuracy: 0.5889 - precision: 0.5929 - recall: 0.8063 - auc: 0.6109\n",
            "Epoch 21/40\n",
            "320/320 [==============================] - 3s 10ms/step - loss: 0.6687 - accuracy: 0.5907 - precision: 0.5944 - recall: 0.8052 - auc: 0.6130\n",
            "Epoch 22/40\n",
            "320/320 [==============================] - 3s 10ms/step - loss: 0.6665 - accuracy: 0.5990 - precision: 0.5986 - recall: 0.8224 - auc: 0.6248\n",
            "Epoch 23/40\n",
            "320/320 [==============================] - 5s 14ms/step - loss: 0.6650 - accuracy: 0.6031 - precision: 0.6012 - recall: 0.8271 - auc: 0.6300\n",
            "Epoch 24/40\n",
            "320/320 [==============================] - 3s 10ms/step - loss: 0.6644 - accuracy: 0.6028 - precision: 0.6047 - recall: 0.8022 - auc: 0.6280\n",
            "Epoch 25/40\n",
            "320/320 [==============================] - 3s 10ms/step - loss: 0.6634 - accuracy: 0.5998 - precision: 0.6016 - recall: 0.8063 - auc: 0.6324\n",
            "Epoch 26/40\n",
            "320/320 [==============================] - 3s 10ms/step - loss: 0.6637 - accuracy: 0.6018 - precision: 0.6053 - recall: 0.7937 - auc: 0.6286\n",
            "Epoch 27/40\n",
            "320/320 [==============================] - 5s 14ms/step - loss: 0.6630 - accuracy: 0.6019 - precision: 0.6024 - recall: 0.8127 - auc: 0.6322\n",
            "Epoch 28/40\n",
            "320/320 [==============================] - 3s 10ms/step - loss: 0.6600 - accuracy: 0.6091 - precision: 0.6086 - recall: 0.8109 - auc: 0.6421\n",
            "Epoch 29/40\n",
            "320/320 [==============================] - 3s 10ms/step - loss: 0.6607 - accuracy: 0.6073 - precision: 0.6095 - recall: 0.7960 - auc: 0.6368\n",
            "Epoch 30/40\n",
            "320/320 [==============================] - 3s 10ms/step - loss: 0.6599 - accuracy: 0.6076 - precision: 0.6099 - recall: 0.7949 - auc: 0.6383\n",
            "Epoch 31/40\n",
            "320/320 [==============================] - 4s 14ms/step - loss: 0.6596 - accuracy: 0.6091 - precision: 0.6113 - recall: 0.7949 - auc: 0.6390\n",
            "Epoch 32/40\n",
            "320/320 [==============================] - 3s 10ms/step - loss: 0.6578 - accuracy: 0.6068 - precision: 0.6098 - recall: 0.7921 - auc: 0.6444\n",
            "Epoch 33/40\n",
            "320/320 [==============================] - 3s 10ms/step - loss: 0.6562 - accuracy: 0.6178 - precision: 0.6175 - recall: 0.8022 - auc: 0.6482\n",
            "Epoch 34/40\n",
            "320/320 [==============================] - 3s 10ms/step - loss: 0.6576 - accuracy: 0.6137 - precision: 0.6162 - recall: 0.7892 - auc: 0.6422\n",
            "Epoch 35/40\n",
            "320/320 [==============================] - 4s 14ms/step - loss: 0.6562 - accuracy: 0.6153 - precision: 0.6186 - recall: 0.7841 - auc: 0.6463\n",
            "Epoch 36/40\n",
            "320/320 [==============================] - 3s 11ms/step - loss: 0.6541 - accuracy: 0.6163 - precision: 0.6183 - recall: 0.7900 - auc: 0.6510\n",
            "Epoch 37/40\n",
            "320/320 [==============================] - 3s 10ms/step - loss: 0.6542 - accuracy: 0.6182 - precision: 0.6190 - recall: 0.7958 - auc: 0.6530\n",
            "Epoch 38/40\n",
            "320/320 [==============================] - 3s 10ms/step - loss: 0.6517 - accuracy: 0.6181 - precision: 0.6197 - recall: 0.7914 - auc: 0.6575\n",
            "Epoch 39/40\n",
            "320/320 [==============================] - 4s 14ms/step - loss: 0.6537 - accuracy: 0.6189 - precision: 0.6208 - recall: 0.7892 - auc: 0.6514\n",
            "Epoch 40/40\n",
            "320/320 [==============================] - 3s 10ms/step - loss: 0.6525 - accuracy: 0.6160 - precision: 0.6198 - recall: 0.7811 - auc: 0.6544\n"
          ]
        },
        {
          "output_type": "execute_result",
          "data": {
            "text/plain": [
              "<keras.callbacks.History at 0x7fa49e7713a0>"
            ]
          },
          "metadata": {},
          "execution_count": 24
        }
      ]
    },
    {
      "cell_type": "markdown",
      "source": [
        "Load Test data"
      ],
      "metadata": {
        "id": "3Zxx5eYHx9vk"
      }
    },
    {
      "cell_type": "code",
      "source": [
        "# Read the TSV file into a DataFrame\n",
        "df = pd.read_csv('test.tsv', sep='\\t')\n",
        "\n",
        "columns = df.columns\n",
        "\n",
        "# Print the column names\n",
        "print(columns)\n"
      ],
      "metadata": {
        "id": "YOPvO43GyBUI",
        "colab": {
          "base_uri": "https://localhost:8080/"
        },
        "outputId": "1033d3fd-34c5-496f-8077-d07a5e7281e8"
      },
      "execution_count": 25,
      "outputs": [
        {
          "output_type": "stream",
          "name": "stdout",
          "text": [
            "Index(['11972.json', 'true',\n",
            "       'Building a wall on the U.S.-Mexico border will take literally years.',\n",
            "       'immigration', 'rick-perry', 'Governor', 'Texas', 'republican', '30',\n",
            "       '30.1', '42', '23', '18', 'Radio interview'],\n",
            "      dtype='object')\n"
          ]
        }
      ]
    },
    {
      "cell_type": "markdown",
      "source": [
        "Make binary labels"
      ],
      "metadata": {
        "id": "bXFtJ_SCyDP2"
      }
    },
    {
      "cell_type": "code",
      "source": [
        "#Count each type. \n",
        "df['true'].value_counts()\n",
        "\n",
        "#Assign label 1 to reliable articles and the rest 0. \n",
        "df['label'] = 0\n",
        "df.loc[(df['true'] == 'false') | (df['true'] == 'true') | (df['true'] == 'mostly-true'), 'label'] = 1\n",
        "print(df['label'])\n"
      ],
      "metadata": {
        "id": "7TB5lj_GyFbw",
        "colab": {
          "base_uri": "https://localhost:8080/"
        },
        "outputId": "16a911ce-0c0a-481b-b752-6c089ec608a6"
      },
      "execution_count": 26,
      "outputs": [
        {
          "output_type": "stream",
          "name": "stdout",
          "text": [
            "0       1\n",
            "1       1\n",
            "2       0\n",
            "3       0\n",
            "4       1\n",
            "       ..\n",
            "1261    0\n",
            "1262    0\n",
            "1263    0\n",
            "1264    0\n",
            "1265    1\n",
            "Name: label, Length: 1266, dtype: int64\n"
          ]
        }
      ]
    },
    {
      "cell_type": "markdown",
      "source": [
        "Tokenize Test data"
      ],
      "metadata": {
        "id": "zkuqrq2HyH4I"
      }
    },
    {
      "cell_type": "code",
      "source": [
        "# Tokenize the test data\n",
        "sequences_test = tokenizer.texts_to_sequences(df['Building a wall on the U.S.-Mexico border will take literally years.'])\n",
        "X_testr = pad_sequences(sequences_test, maxlen=maxlen)\n",
        "\n",
        "y_testr = df['label'].values.reshape(-1, 1)"
      ],
      "metadata": {
        "id": "gbeb2T2XyLOv"
      },
      "execution_count": 27,
      "outputs": []
    },
    {
      "cell_type": "markdown",
      "source": [
        "Make binary y_pred"
      ],
      "metadata": {
        "id": "M8Q-ocarySdh"
      }
    },
    {
      "cell_type": "code",
      "source": [
        "\n",
        "# Make predictions with the model\n",
        "y_pred = model.predict(X_testr)\n",
        "threshold = 0.5\n",
        "\n",
        "# Create binary targets using thresholding\n",
        "y_pred = np.where(y_pred > threshold, 1, 0)\n",
        "\n",
        "# Print the predicted class probabilities for the first sample\n",
        "print(y_pred.shape)\n",
        "print(y_testr.shape)\n"
      ],
      "metadata": {
        "id": "jpsOhMClyPoE",
        "colab": {
          "base_uri": "https://localhost:8080/"
        },
        "outputId": "f51646a2-5286-452e-e0be-59901b0057cd"
      },
      "execution_count": 28,
      "outputs": [
        {
          "output_type": "stream",
          "name": "stdout",
          "text": [
            "40/40 [==============================] - 0s 5ms/step\n",
            "(1266, 1)\n",
            "(1266, 1)\n"
          ]
        }
      ]
    },
    {
      "cell_type": "markdown",
      "source": [
        "Find f_score"
      ],
      "metadata": {
        "id": "xLnhXpQoyVzy"
      }
    },
    {
      "cell_type": "code",
      "source": [
        "import numpy as np\n",
        "from sklearn.metrics import precision_score, recall_score, f1_score\n",
        "\n",
        "f_score = f1_score(y_testr, y_pred)\n",
        "\n",
        "# Print the results\n",
        "print('F-score:', f_score)"
      ],
      "metadata": {
        "id": "s2dbNivkyXfH",
        "colab": {
          "base_uri": "https://localhost:8080/"
        },
        "outputId": "b0928b70-0216-43d0-c0d5-088b58c7277e"
      },
      "execution_count": 29,
      "outputs": [
        {
          "output_type": "stream",
          "name": "stdout",
          "text": [
            "F-score: 0.6477732793522267\n"
          ]
        }
      ]
    },
    {
      "cell_type": "code",
      "source": [],
      "metadata": {
        "id": "lOwGe7Jq0fHY"
      },
      "execution_count": 29,
      "outputs": []
    }
  ]
}